{
  "nbformat": 4,
  "nbformat_minor": 0,
  "metadata": {
    "colab": {
      "provenance": []
    },
    "kernelspec": {
      "name": "python3",
      "display_name": "Python 3"
    },
    "language_info": {
      "name": "python"
    }
  },
  "cells": [
    {
      "cell_type": "code",
      "execution_count": null,
      "metadata": {
        "id": "lO2DSEVzjt7n"
      },
      "outputs": [],
      "source": [
        "# To implement fastText in Python, you can use the fasttext library. Here are the steps to get started with a simple example:\n",
        "\n",
        "# Install the fasttext library using pip: pip install fasttext\n",
        "# Load the pre-trained model or train your own model on a text dataset. Here's an example of loading a pre-trained model:"
      ]
    },
    {
      "cell_type": "code",
      "source": [
        "import fasttext\n",
        "\n",
        "model = fasttext.load_model('cc.en.300.bin')\n"
      ],
      "metadata": {
        "id": "b5bHmD8RkJFW"
      },
      "execution_count": null,
      "outputs": []
    },
    {
      "cell_type": "code",
      "source": [
        "# Use the model to perform text classification or word representation tasks. Here's an example of text classification:\n",
        "labels, probs = model.predict(\"This movie is great!\")\n",
        "print(labels, probs)\n"
      ],
      "metadata": {
        "id": "RDnMlqEUkLVt"
      },
      "execution_count": null,
      "outputs": []
    },
    {
      "cell_type": "code",
      "source": [
        "# # You can also train your own model using the fasttext.train_supervised method, which trains a supervised classifier using the input data and labels.\n",
        "# To train a custom fastText model in Python, you can use the fasttext.train_supervised method. Here's a simple example that demonstrates how to train a text classification model on a sample dataset:"
      ],
      "metadata": {
        "id": "mwMTElR1kQlE"
      },
      "execution_count": null,
      "outputs": []
    },
    {
      "cell_type": "code",
      "source": [
        "import fasttext\n",
        "\n",
        "# Prepare the training data in a file with one sample per line, where the first word is the label and the rest is the text\n",
        "with open('train_data.txt', 'w') as f:\n",
        "    f.write(\"__label__positive This movie is great!\\n\")\n",
        "    f.write(\"__label__negative This movie is bad.\\n\")\n",
        "\n",
        "# Train the model using the training data\n",
        "model = fasttext.train_supervised('train_data.txt', epoch=25)\n",
        "\n",
        "# Evaluate the model on test data\n",
        "result = model.test('train_data.txt')\n",
        "print(\"P@1:\", result[1])\n",
        "print(\"R@1:\", result[2])\n"
      ],
      "metadata": {
        "id": "qVnmQ6XSkXF7"
      },
      "execution_count": null,
      "outputs": []
    },
    {
      "cell_type": "code",
      "source": [
        "# In this example, the fasttext.train_supervised method takes the file name of the training data as an argument and trains a supervised classification model. The epoch parameter specifies the number of epochs to train the model.\n",
        "\n",
        "# Once the model is trained, you can evaluate it on test data using the model.test method, which returns the precision and recall at 1 (P@1 and R@1).\n",
        "\n",
        "# You can also specify other parameters while training the model, such as the learning rate, the number of dimensions in the word embeddings, and so on. Check the fasttext documentation for more details on the available parameters and their usage.\n",
        "\n",
        "\n",
        "\n"
      ],
      "metadata": {
        "id": "Rti8zW21kbsK"
      },
      "execution_count": null,
      "outputs": []
    }
  ]
}